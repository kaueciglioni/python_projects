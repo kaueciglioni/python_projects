{
  "nbformat": 4,
  "nbformat_minor": 0,
  "metadata": {
    "colab": {
      "provenance": [],
      "authorship_tag": "ABX9TyMkqbBTuKIf+o4ydPa/dheJ",
      "include_colab_link": true
    },
    "kernelspec": {
      "name": "python3",
      "display_name": "Python 3"
    },
    "language_info": {
      "name": "python"
    }
  },
  "cells": [
    {
      "cell_type": "markdown",
      "metadata": {
        "id": "view-in-github",
        "colab_type": "text"
      },
      "source": [
        "<a href=\"https://colab.research.google.com/github/kaueciglioni/python_projects/blob/main/Fila_de_bancos.ipynb\" target=\"_parent\"><img src=\"https://colab.research.google.com/assets/colab-badge.svg\" alt=\"Open In Colab\"/></a>"
      ]
    },
    {
      "cell_type": "markdown",
      "source": [
        "EXERCICIO\n",
        "\n",
        "Faça um programa que emita senhas aleatórias para o clientes de um banco.\n",
        "O programa deverá apresentar um menu com as opções"
      ],
      "metadata": {
        "id": "3ZDXyWPxJuZV"
      }
    },
    {
      "cell_type": "code",
      "source": [
        "lista= list()\n",
        "import random\n",
        "\n",
        "print(\"$$$ BANCO K $$$\\n\")\n",
        "\n",
        "while True:\n",
        "  print(\"\\nPara:\\n\\n Emitir senha : 1\\n Mostrar senha: 2\\n Chamar senha: 3\\n Sair: 4\\n\")\n",
        "  acao = int(input(\"Oque você gostaria de fazer?\\n\"))\n",
        "\n",
        "  if acao == 1:\n",
        "    lista.append(random.randint(100,500))\n",
        "    print()\n",
        "    print(f'NOVA SENHA GERADA: {lista}')\n",
        "    print()\n",
        "\n",
        "  elif acao == 2:\n",
        "    print()\n",
        "    print(f'SENHAS NO PAINEL: {lista}')\n",
        "    print()\n",
        "  elif acao == 3:\n",
        "    print(f\"Proxima senha: {lista}\"[0])\n",
        "    del lista[0]\n",
        "    print(f\"Fila de senhas atualizada: {lista}\")\n",
        "    print()\n",
        "  elif acao == 4:\n",
        "    print(\"OBRIGADO PELA VISITA\\n VOLTE SEMPRE!\")\n",
        "    break\n",
        "    print()\n",
        "  else:\n",
        "    print(\"Opção Inválida...\\n\")\n"
      ],
      "metadata": {
        "colab": {
          "base_uri": "https://localhost:8080/"
        },
        "id": "3EwA9X0HJz0_",
        "outputId": "abdc58fc-ed58-4d20-e19d-715f4164580e"
      },
      "execution_count": null,
      "outputs": [
        {
          "output_type": "stream",
          "name": "stdout",
          "text": [
            "$$$ BANCO K $$$\n",
            "\n",
            "\n",
            "Para:\n",
            "\n",
            " Emitir senha : 1\n",
            " Mostrar senha: 2\n",
            " Chamar senha: 3\n",
            " Sair: 4\n",
            "\n",
            "Oque você gostaria de fazer?\n",
            "1\n",
            "\n",
            "NOVA SENHA GERADA: [267]\n",
            "\n",
            "\n",
            "Para:\n",
            "\n",
            " Emitir senha : 1\n",
            " Mostrar senha: 2\n",
            " Chamar senha: 3\n",
            " Sair: 4\n",
            "\n",
            "Oque você gostaria de fazer?\n",
            "3\n",
            "P\n",
            "Fila de senhas atualizada: []\n",
            "\n",
            "\n",
            "Para:\n",
            "\n",
            " Emitir senha : 1\n",
            " Mostrar senha: 2\n",
            " Chamar senha: 3\n",
            " Sair: 4\n",
            "\n",
            "Oque você gostaria de fazer?\n",
            "1\n",
            "\n",
            "NOVA SENHA GERADA: [327]\n",
            "\n",
            "\n",
            "Para:\n",
            "\n",
            " Emitir senha : 1\n",
            " Mostrar senha: 2\n",
            " Chamar senha: 3\n",
            " Sair: 4\n",
            "\n",
            "Oque você gostaria de fazer?\n",
            "1\n",
            "\n",
            "NOVA SENHA GERADA: [327, 467]\n",
            "\n",
            "\n",
            "Para:\n",
            "\n",
            " Emitir senha : 1\n",
            " Mostrar senha: 2\n",
            " Chamar senha: 3\n",
            " Sair: 4\n",
            "\n",
            "Oque você gostaria de fazer?\n",
            "1\n",
            "\n",
            "NOVA SENHA GERADA: [327, 467, 436]\n",
            "\n",
            "\n",
            "Para:\n",
            "\n",
            " Emitir senha : 1\n",
            " Mostrar senha: 2\n",
            " Chamar senha: 3\n",
            " Sair: 4\n",
            "\n",
            "Oque você gostaria de fazer?\n",
            "1\n",
            "\n",
            "NOVA SENHA GERADA: [327, 467, 436, 176]\n",
            "\n",
            "\n",
            "Para:\n",
            "\n",
            " Emitir senha : 1\n",
            " Mostrar senha: 2\n",
            " Chamar senha: 3\n",
            " Sair: 4\n",
            "\n",
            "Oque você gostaria de fazer?\n",
            "3\n",
            "P\n",
            "Fila de senhas atualizada: [467, 436, 176]\n",
            "\n",
            "\n",
            "Para:\n",
            "\n",
            " Emitir senha : 1\n",
            " Mostrar senha: 2\n",
            " Chamar senha: 3\n",
            " Sair: 4\n",
            "\n",
            "Oque você gostaria de fazer?\n",
            "4\n",
            "OBRIGADO PELA VISITA\n",
            " VOLTE SEMPRE!\n"
          ]
        }
      ]
    }
  ]
}