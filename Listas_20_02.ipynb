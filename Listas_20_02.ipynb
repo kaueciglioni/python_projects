{
  "nbformat": 4,
  "nbformat_minor": 0,
  "metadata": {
    "colab": {
      "provenance": [],
      "authorship_tag": "ABX9TyPzjh4MVFx/ovpbMQ6Tn9Zp",
      "include_colab_link": true
    },
    "kernelspec": {
      "name": "python3",
      "display_name": "Python 3"
    },
    "language_info": {
      "name": "python"
    }
  },
  "cells": [
    {
      "cell_type": "markdown",
      "metadata": {
        "id": "view-in-github",
        "colab_type": "text"
      },
      "source": [
        "<a href=\"https://colab.research.google.com/github/kaueciglioni/python_projects/blob/main/Listas_20_02.ipynb\" target=\"_parent\"><img src=\"https://colab.research.google.com/assets/colab-badge.svg\" alt=\"Open In Colab\"/></a>"
      ]
    },
    {
      "cell_type": "code",
      "execution_count": null,
      "metadata": {
        "id": "jeabAKW5C_6x"
      },
      "outputs": [],
      "source": []
    },
    {
      "cell_type": "markdown",
      "source": [
        "BIBLIOTECAS\n",
        "\n",
        "É um conjunto de funções e códigos prontos que facilitam desenvolviemnto dos programas. Para usa-las precisamos importa-las com o comando import."
      ],
      "metadata": {
        "id": "f2DGOyXhHcmB"
      }
    },
    {
      "cell_type": "code",
      "source": [
        "import math"
      ],
      "metadata": {
        "id": "U2QdNvdfIDY0"
      },
      "execution_count": null,
      "outputs": []
    },
    {
      "cell_type": "code",
      "source": [
        "#para cálculos  de potencia, raiz quadrada, etc...\n",
        "\n",
        "math.sqrt(16)"
      ],
      "metadata": {
        "colab": {
          "base_uri": "https://localhost:8080/"
        },
        "id": "Ph0Dqt9bII3A",
        "outputId": "cf018130-ad95-4e26-df4c-ebd66c33b49d"
      },
      "execution_count": null,
      "outputs": [
        {
          "output_type": "execute_result",
          "data": {
            "text/plain": [
              "4.0"
            ]
          },
          "metadata": {},
          "execution_count": 2
        }
      ]
    },
    {
      "cell_type": "code",
      "source": [
        "math.pow(5,2)"
      ],
      "metadata": {
        "colab": {
          "base_uri": "https://localhost:8080/"
        },
        "id": "8AF8P95VIbGx",
        "outputId": "f65b3413-ad81-412a-f3a6-171ad8125503"
      },
      "execution_count": null,
      "outputs": [
        {
          "output_type": "execute_result",
          "data": {
            "text/plain": [
              "25.0"
            ]
          },
          "metadata": {},
          "execution_count": 3
        }
      ]
    },
    {
      "cell_type": "code",
      "source": [
        "math.factorial(5)"
      ],
      "metadata": {
        "colab": {
          "base_uri": "https://localhost:8080/"
        },
        "id": "EZt-9S19IeGB",
        "outputId": "0e363af0-32ce-4830-f082-83af29504a58"
      },
      "execution_count": null,
      "outputs": [
        {
          "output_type": "execute_result",
          "data": {
            "text/plain": [
              "120"
            ]
          },
          "metadata": {},
          "execution_count": 4
        }
      ]
    },
    {
      "cell_type": "code",
      "source": [
        "##BIBLIOTE IMPORTANTE - RANDOM\n",
        "\n",
        "import random"
      ],
      "metadata": {
        "id": "lU5_QwM-IhBh"
      },
      "execution_count": null,
      "outputs": []
    },
    {
      "cell_type": "code",
      "source": [
        "random.randint(1,100) # RETORNA O NUMERO ALEATORIO DENTRO DA FAIXA"
      ],
      "metadata": {
        "colab": {
          "base_uri": "https://localhost:8080/"
        },
        "id": "Tlmj_fViIu_6",
        "outputId": "ac82d518-756c-4c84-adcd-9858f075e138"
      },
      "execution_count": null,
      "outputs": [
        {
          "output_type": "execute_result",
          "data": {
            "text/plain": [
              "53"
            ]
          },
          "metadata": {},
          "execution_count": 8
        }
      ]
    },
    {
      "cell_type": "code",
      "source": [
        "random.choice([20,18,54,11,5]) #SORTEIA um valor da sequenciA"
      ],
      "metadata": {
        "colab": {
          "base_uri": "https://localhost:8080/"
        },
        "id": "JZfICJTEI2ta",
        "outputId": "2021320a-8e15-4f63-e6fe-59f8e1aa91c9"
      },
      "execution_count": null,
      "outputs": [
        {
          "output_type": "execute_result",
          "data": {
            "text/plain": [
              "11"
            ]
          },
          "metadata": {},
          "execution_count": 10
        }
      ]
    },
    {
      "cell_type": "code",
      "source": [
        "import datetime"
      ],
      "metadata": {
        "id": "1CRSZG-iJXR6"
      },
      "execution_count": null,
      "outputs": []
    },
    {
      "cell_type": "code",
      "source": [
        "datetime.date.today()"
      ],
      "metadata": {
        "colab": {
          "base_uri": "https://localhost:8080/"
        },
        "id": "14wTKkVfJa9a",
        "outputId": "cd7878da-69cd-48c2-ae42-f10070df14bd"
      },
      "execution_count": null,
      "outputs": [
        {
          "output_type": "execute_result",
          "data": {
            "text/plain": [
              "datetime.date(2023, 3, 20)"
            ]
          },
          "metadata": {},
          "execution_count": 14
        }
      ]
    },
    {
      "cell_type": "code",
      "source": [
        "datetime.date.today().day"
      ],
      "metadata": {
        "colab": {
          "base_uri": "https://localhost:8080/"
        },
        "id": "jwNBQvweJl2v",
        "outputId": "c856cd4f-d6a1-459d-d1d1-caeefac0e813"
      },
      "execution_count": null,
      "outputs": [
        {
          "output_type": "execute_result",
          "data": {
            "text/plain": [
              "20"
            ]
          },
          "metadata": {},
          "execution_count": 19
        }
      ]
    },
    {
      "cell_type": "code",
      "source": [
        "datetime.date.today().month"
      ],
      "metadata": {
        "colab": {
          "base_uri": "https://localhost:8080/"
        },
        "id": "8HslL-nYJwMf",
        "outputId": "3b2b209d-d0b1-436a-b760-f3b84ab96135"
      },
      "execution_count": null,
      "outputs": [
        {
          "output_type": "execute_result",
          "data": {
            "text/plain": [
              "3"
            ]
          },
          "metadata": {},
          "execution_count": 17
        }
      ]
    },
    {
      "cell_type": "code",
      "source": [
        "\n",
        "datetime.date.today().year"
      ],
      "metadata": {
        "colab": {
          "base_uri": "https://localhost:8080/"
        },
        "id": "tmmtzc7gJy0v",
        "outputId": "f45b998a-9fed-4702-b8f6-134fee316afc"
      },
      "execution_count": null,
      "outputs": [
        {
          "output_type": "execute_result",
          "data": {
            "text/plain": [
              "2023"
            ]
          },
          "metadata": {},
          "execution_count": 18
        }
      ]
    },
    {
      "cell_type": "code",
      "source": [
        "import time"
      ],
      "metadata": {
        "id": "cExBHcvlJMx7"
      },
      "execution_count": null,
      "outputs": []
    },
    {
      "cell_type": "code",
      "source": [
        "for contador in range(5):\n",
        "  print('Conectando...')\n",
        "  time.sleep(1)"
      ],
      "metadata": {
        "colab": {
          "base_uri": "https://localhost:8080/"
        },
        "id": "Y1HdbYJEJ2s_",
        "outputId": "364bd23d-5084-4d25-f322-0c1533fe5750"
      },
      "execution_count": null,
      "outputs": [
        {
          "output_type": "stream",
          "name": "stdout",
          "text": [
            "Conectando...\n",
            "Conectando...\n",
            "Conectando...\n",
            "Conectando...\n",
            "Conectando...\n"
          ]
        }
      ]
    },
    {
      "cell_type": "code",
      "source": [],
      "metadata": {
        "id": "Bh-U7c-MKFIu"
      },
      "execution_count": null,
      "outputs": []
    },
    {
      "cell_type": "markdown",
      "source": [
        "LISTAS"
      ],
      "metadata": {
        "id": "pf7AHWpXKNQc"
      }
    },
    {
      "cell_type": "code",
      "source": [
        "#### SO FUNCIONA NO COLAB E JUPYTER ###\n",
        "lista= [1,2,3,4,5]\n",
        "lista"
      ],
      "metadata": {
        "colab": {
          "base_uri": "https://localhost:8080/"
        },
        "id": "idPtBXEFKPNN",
        "outputId": "f21fb3aa-35f6-4f0c-83c4-0a7951ea3f44"
      },
      "execution_count": null,
      "outputs": [
        {
          "output_type": "execute_result",
          "data": {
            "text/plain": [
              "[1, 2, 3, 4, 5]"
            ]
          },
          "metadata": {},
          "execution_count": 54
        }
      ]
    },
    {
      "cell_type": "code",
      "source": [
        "### funciona só no pycharm ####\n",
        "print(lista)"
      ],
      "metadata": {
        "colab": {
          "base_uri": "https://localhost:8080/"
        },
        "id": "9q3iL1dbKYSe",
        "outputId": "d1d48c11-0ecd-497d-8838-eaf6d4f5a4af"
      },
      "execution_count": null,
      "outputs": [
        {
          "output_type": "stream",
          "name": "stdout",
          "text": [
            "[1, 2, 3, 4, 5]\n"
          ]
        }
      ]
    },
    {
      "cell_type": "code",
      "source": [
        "lista[0]"
      ],
      "metadata": {
        "colab": {
          "base_uri": "https://localhost:8080/"
        },
        "id": "g5nZt0kpKrRN",
        "outputId": "d498406e-ae66-4e2e-f22d-fe0b8a8c7a71"
      },
      "execution_count": null,
      "outputs": [
        {
          "output_type": "execute_result",
          "data": {
            "text/plain": [
              "1"
            ]
          },
          "metadata": {},
          "execution_count": 56
        }
      ]
    },
    {
      "cell_type": "code",
      "source": [
        "lista.append(6) ## INSERE UM ELEMENTO NO FINAL DA LISTA ##\n",
        "lista"
      ],
      "metadata": {
        "colab": {
          "base_uri": "https://localhost:8080/"
        },
        "id": "nHsm_o0rLQjN",
        "outputId": "43b136c8-9fc4-438a-d493-08439ec3f99b"
      },
      "execution_count": null,
      "outputs": [
        {
          "output_type": "execute_result",
          "data": {
            "text/plain": [
              "[1, 2, 3, 4, 5, 6]"
            ]
          },
          "metadata": {},
          "execution_count": 57
        }
      ]
    },
    {
      "cell_type": "code",
      "source": [
        "lista[2] = 7\n",
        "lista"
      ],
      "metadata": {
        "colab": {
          "base_uri": "https://localhost:8080/"
        },
        "id": "r6ZuIf8tLdL9",
        "outputId": "a6ae763b-b40d-4480-8585-0ac849ff4a53"
      },
      "execution_count": null,
      "outputs": [
        {
          "output_type": "execute_result",
          "data": {
            "text/plain": [
              "[1, 2, 7, 4, 5, 6]"
            ]
          },
          "metadata": {},
          "execution_count": 58
        }
      ]
    },
    {
      "cell_type": "code",
      "source": [
        "lista.insert(2,3) # INSER O ELEMENTO NA POSIÇÃO INFORMADA\n",
        "lista"
      ],
      "metadata": {
        "colab": {
          "base_uri": "https://localhost:8080/"
        },
        "id": "gOoHXxPEL1zM",
        "outputId": "11f01a0d-a9e7-4437-fd5c-4469d22b6197"
      },
      "execution_count": null,
      "outputs": [
        {
          "output_type": "execute_result",
          "data": {
            "text/plain": [
              "[1, 2, 3, 7, 4, 5, 6]"
            ]
          },
          "metadata": {},
          "execution_count": 59
        }
      ]
    },
    {
      "cell_type": "code",
      "source": [
        "del lista[3] # ELIMINA ELEMENTO DA LISTA ##\n",
        "lista"
      ],
      "metadata": {
        "colab": {
          "base_uri": "https://localhost:8080/"
        },
        "id": "I39h_p6iMTcb",
        "outputId": "2727538c-3950-4635-cae4-362a27bd30d4"
      },
      "execution_count": null,
      "outputs": [
        {
          "output_type": "execute_result",
          "data": {
            "text/plain": [
              "[1, 2, 3, 4, 5, 6]"
            ]
          },
          "metadata": {},
          "execution_count": 60
        }
      ]
    },
    {
      "cell_type": "code",
      "source": [
        "lista.pop() # ELIMINA O ULTIMO ELEMENTO DA LISTA ##"
      ],
      "metadata": {
        "colab": {
          "base_uri": "https://localhost:8080/"
        },
        "id": "LuRHDAZKMqRD",
        "outputId": "0f6cd7ce-c9de-4d59-9fbb-0c0192be5247"
      },
      "execution_count": null,
      "outputs": [
        {
          "output_type": "execute_result",
          "data": {
            "text/plain": [
              "6"
            ]
          },
          "metadata": {},
          "execution_count": 61
        }
      ]
    },
    {
      "cell_type": "code",
      "source": [
        "lista.pop(3) ## com parametro elimina o elemento do indice informado\n",
        "lista"
      ],
      "metadata": {
        "colab": {
          "base_uri": "https://localhost:8080/"
        },
        "id": "DQdESeUKM7sM",
        "outputId": "a337a0c3-e1fa-4cd2-a2f6-b6c20230c899"
      },
      "execution_count": null,
      "outputs": [
        {
          "output_type": "execute_result",
          "data": {
            "text/plain": [
              "[1, 2, 3]"
            ]
          },
          "metadata": {},
          "execution_count": 63
        }
      ]
    },
    {
      "cell_type": "markdown",
      "source": [
        "PODEMOS CRIAR UMA LISTA APARTIR DA FUNÇÃO LIST()"
      ],
      "metadata": {
        "id": "nNz4-lRXNdSg"
      }
    },
    {
      "cell_type": "code",
      "source": [
        "numeros = list()\n",
        "numeros"
      ],
      "metadata": {
        "colab": {
          "base_uri": "https://localhost:8080/"
        },
        "id": "BvqzgIRMNhV6",
        "outputId": "c2b8f4dc-f12f-447f-8a46-8372de7659a2"
      },
      "execution_count": null,
      "outputs": [
        {
          "output_type": "execute_result",
          "data": {
            "text/plain": [
              "[]"
            ]
          },
          "metadata": {},
          "execution_count": 108
        }
      ]
    },
    {
      "cell_type": "code",
      "source": [
        "type(numeros)"
      ],
      "metadata": {
        "colab": {
          "base_uri": "https://localhost:8080/"
        },
        "id": "W2uKqfo4Nww6",
        "outputId": "c2d77681-d39d-4fb7-c943-47b693516e79"
      },
      "execution_count": null,
      "outputs": [
        {
          "output_type": "execute_result",
          "data": {
            "text/plain": [
              "list"
            ]
          },
          "metadata": {},
          "execution_count": 77
        }
      ]
    },
    {
      "cell_type": "code",
      "source": [
        "numeros.append(10)\n",
        "numeros"
      ],
      "metadata": {
        "colab": {
          "base_uri": "https://localhost:8080/"
        },
        "id": "HZCSrS77N2c5",
        "outputId": "4031cf78-868a-401b-8372-369d2ca55921"
      },
      "execution_count": null,
      "outputs": [
        {
          "output_type": "execute_result",
          "data": {
            "text/plain": [
              "[10]"
            ]
          },
          "metadata": {},
          "execution_count": 78
        }
      ]
    },
    {
      "cell_type": "code",
      "source": [
        "numeros.append(9)\n",
        "numeros"
      ],
      "metadata": {
        "colab": {
          "base_uri": "https://localhost:8080/"
        },
        "id": "yhr-sI6EN65X",
        "outputId": "660b1884-8614-4df6-936f-3f26b1e1441e"
      },
      "execution_count": null,
      "outputs": [
        {
          "output_type": "execute_result",
          "data": {
            "text/plain": [
              "[10, 9]"
            ]
          },
          "metadata": {},
          "execution_count": 79
        }
      ]
    },
    {
      "cell_type": "code",
      "source": [
        "numeros.sort() # ORDENA EM ORDEM CRESCENTE   > MOSTRAR EM ORDEM INVERSA ># reverse=true dentro do parentese\n",
        "numeros"
      ],
      "metadata": {
        "colab": {
          "base_uri": "https://localhost:8080/"
        },
        "id": "X2f3Wb2IN_lH",
        "outputId": "4cae8c05-0d0f-47c5-be42-cf382961363c"
      },
      "execution_count": null,
      "outputs": [
        {
          "output_type": "execute_result",
          "data": {
            "text/plain": [
              "[5.7, 9, 10]"
            ]
          },
          "metadata": {},
          "execution_count": 83
        }
      ]
    },
    {
      "cell_type": "code",
      "source": [
        "valores = list(range(1,11))\n",
        "valores"
      ],
      "metadata": {
        "colab": {
          "base_uri": "https://localhost:8080/"
        },
        "id": "bme8oki8OrxY",
        "outputId": "fba8df3d-0ca0-4219-e5b1-68aca533d05b"
      },
      "execution_count": null,
      "outputs": [
        {
          "output_type": "execute_result",
          "data": {
            "text/plain": [
              "[1, 2, 3, 4, 5, 6, 7, 8, 9, 10]"
            ]
          },
          "metadata": {},
          "execution_count": 109
        }
      ]
    },
    {
      "cell_type": "code",
      "source": [
        "valores.sort(reverse=True)\n",
        "valores"
      ],
      "metadata": {
        "colab": {
          "base_uri": "https://localhost:8080/"
        },
        "id": "d7wo9nfGOzaY",
        "outputId": "22f8e250-0be1-41fc-e422-712221f11be9"
      },
      "execution_count": null,
      "outputs": [
        {
          "output_type": "execute_result",
          "data": {
            "text/plain": [
              "[10, 9, 8, 7, 6, 5, 4, 3, 2, 1]"
            ]
          },
          "metadata": {},
          "execution_count": 110
        }
      ]
    },
    {
      "cell_type": "code",
      "source": [
        "  max(valores) #RETORNA O MAIOR VALOR"
      ],
      "metadata": {
        "colab": {
          "base_uri": "https://localhost:8080/"
        },
        "id": "nbaTpSElP_vd",
        "outputId": "44a3b806-bd67-44ba-e988-9f73babbb1f0"
      },
      "execution_count": null,
      "outputs": [
        {
          "output_type": "execute_result",
          "data": {
            "text/plain": [
              "10"
            ]
          },
          "metadata": {},
          "execution_count": 111
        }
      ]
    },
    {
      "cell_type": "code",
      "source": [
        "min(valores) #RETORNA O MENOR VALOR"
      ],
      "metadata": {
        "colab": {
          "base_uri": "https://localhost:8080/"
        },
        "id": "yEtYoGONQC62",
        "outputId": "6a5a4a09-d86a-42d4-c61d-29b5dfbcc93e"
      },
      "execution_count": null,
      "outputs": [
        {
          "output_type": "execute_result",
          "data": {
            "text/plain": [
              "1"
            ]
          },
          "metadata": {},
          "execution_count": 112
        }
      ]
    },
    {
      "cell_type": "code",
      "source": [],
      "metadata": {
        "id": "C6QPAaJPQFSW"
      },
      "execution_count": null,
      "outputs": []
    },
    {
      "cell_type": "code",
      "source": [
        "if 7 in valores:\n",
        "  valores.remove(7)\n",
        "\n",
        "else:\n",
        "  print('Não achei o numero na lista')\n",
        "\n",
        "\n",
        "print(valores)\n"
      ],
      "metadata": {
        "colab": {
          "base_uri": "https://localhost:8080/"
        },
        "id": "-e4qsuAhQng2",
        "outputId": "10763ec9-2743-42bc-aa0a-84f63efe9c61"
      },
      "execution_count": null,
      "outputs": [
        {
          "output_type": "stream",
          "name": "stdout",
          "text": [
            "[10, 9, 8, 6, 5, 4, 3, 2, 1]\n"
          ]
        }
      ]
    },
    {
      "cell_type": "code",
      "source": [
        "# MOSTRANDO OS ELEMENTOS DA LISTA\n",
        "\n",
        "for i in valores:\n",
        "  print(f'{i}')"
      ],
      "metadata": {
        "colab": {
          "base_uri": "https://localhost:8080/"
        },
        "id": "aJPNRzMgRNVc",
        "outputId": "2088cac2-f644-4ee5-a183-f971ef1a7b9e"
      },
      "execution_count": null,
      "outputs": [
        {
          "output_type": "stream",
          "name": "stdout",
          "text": [
            "10\n",
            "9\n",
            "8\n",
            "6\n",
            "5\n",
            "4\n",
            "3\n",
            "2\n",
            "1\n"
          ]
        }
      ]
    },
    {
      "cell_type": "code",
      "source": [
        "# MOSTRANDO OS ELEMENTOS E SEUS INDICES\n",
        "for i in enumerate(valores):\n",
        "  print (i)"
      ],
      "metadata": {
        "colab": {
          "base_uri": "https://localhost:8080/"
        },
        "id": "yPI0aZzTR9zk",
        "outputId": "2c43f6d3-5d18-45b2-9eb9-29e85e9dcde1"
      },
      "execution_count": null,
      "outputs": [
        {
          "output_type": "stream",
          "name": "stdout",
          "text": [
            "(0, 10)\n",
            "(1, 9)\n",
            "(2, 8)\n",
            "(3, 6)\n",
            "(4, 5)\n",
            "(5, 4)\n",
            "(6, 3)\n",
            "(7, 2)\n",
            "(8, 1)\n"
          ]
        }
      ]
    },
    {
      "cell_type": "code",
      "source": [
        "valores.sort()\n",
        "for c, i in enumerate(valores):\n",
        "  print(f'Na posição {c} encontra o valor {i}')\n",
        "\n",
        "print('Cheguei ao final da lista')"
      ],
      "metadata": {
        "colab": {
          "base_uri": "https://localhost:8080/"
        },
        "id": "jqdzfqotSqJC",
        "outputId": "cfff2ceb-f701-4b72-d1c6-f34e14bfd342"
      },
      "execution_count": null,
      "outputs": [
        {
          "output_type": "stream",
          "name": "stdout",
          "text": [
            "Na posição 0 encontra o valor 1\n",
            "Na posição 1 encontra o valor 2\n",
            "Na posição 2 encontra o valor 3\n",
            "Na posição 3 encontra o valor 4\n",
            "Na posição 4 encontra o valor 5\n",
            "Na posição 5 encontra o valor 6\n",
            "Na posição 6 encontra o valor 8\n",
            "Na posição 7 encontra o valor 9\n",
            "Na posição 8 encontra o valor 10\n",
            "Cheguei ao final da lista\n"
          ]
        }
      ]
    },
    {
      "cell_type": "code",
      "source": [
        "#Lendo valores pelo teclado\n",
        "\n",
        "for i in range(5):\n",
        "  valores.append(int(input('Digite um valor:  ')))\n",
        "\n",
        "for c, i in enumerate(valores):\n",
        "  print(f'Na posição {c} encontrei o valor {i}')\n",
        "\n",
        "print('Cheguei ao final da lista')"
      ],
      "metadata": {
        "colab": {
          "base_uri": "https://localhost:8080/"
        },
        "id": "Xq4i8wDeTbzp",
        "outputId": "e34890c0-4316-48c6-e9e3-d977cf473eef"
      },
      "execution_count": null,
      "outputs": [
        {
          "output_type": "stream",
          "name": "stdout",
          "text": [
            "Digite um valor:  10\n",
            "Digite um valor:  110\n",
            "Digite um valor:  123\n",
            "Digite um valor:  1234\n",
            "Digite um valor:  14121\n",
            "Na posição 0 encontrei o valor 1\n",
            "Na posição 1 encontrei o valor 2\n",
            "Na posição 2 encontrei o valor 3\n",
            "Na posição 3 encontrei o valor 4\n",
            "Na posição 4 encontrei o valor 5\n",
            "Na posição 5 encontrei o valor 6\n",
            "Na posição 6 encontrei o valor 8\n",
            "Na posição 7 encontrei o valor 9\n",
            "Na posição 8 encontrei o valor 9\n",
            "Na posição 9 encontrei o valor 10\n",
            "Na posição 10 encontrei o valor 10\n",
            "Na posição 11 encontrei o valor 15\n",
            "Na posição 12 encontrei o valor 30\n",
            "Na posição 13 encontrei o valor 50\n",
            "Na posição 14 encontrei o valor 60\n",
            "Na posição 15 encontrei o valor 70\n",
            "Na posição 16 encontrei o valor 71\n",
            "Na posição 17 encontrei o valor 113\n",
            "Na posição 18 encontrei o valor 130\n",
            "Na posição 19 encontrei o valor 10\n",
            "Na posição 20 encontrei o valor 11\n",
            "Na posição 21 encontrei o valor 1\n",
            "Na posição 22 encontrei o valor 10\n",
            "Na posição 23 encontrei o valor 110\n",
            "Na posição 24 encontrei o valor 123\n",
            "Na posição 25 encontrei o valor 1234\n",
            "Na posição 26 encontrei o valor 14121\n",
            "Cheguei ao final da lista\n"
          ]
        }
      ]
    },
    {
      "cell_type": "code",
      "source": [
        "# TRABALHANDO EM COPIAS DE LISTA"
      ],
      "metadata": {
        "id": "tXeE5vdCVGjf"
      },
      "execution_count": null,
      "outputs": []
    },
    {
      "cell_type": "code",
      "source": [
        "a = [2,4,6,8,10]\n",
        "b=a\n",
        "\n",
        "print(a)\n",
        "print(b)"
      ],
      "metadata": {
        "colab": {
          "base_uri": "https://localhost:8080/"
        },
        "id": "sBhw_RklVJsP",
        "outputId": "17571954-a1c2-49ec-bd73-c985b3bf9a4f"
      },
      "execution_count": null,
      "outputs": [
        {
          "output_type": "stream",
          "name": "stdout",
          "text": [
            "[2, 4, 6, 8, 10]\n",
            "[2, 4, 6, 8, 10]\n"
          ]
        }
      ]
    },
    {
      "cell_type": "code",
      "source": [
        "b[2] = 100\n",
        "print(b)\n",
        "print(a)"
      ],
      "metadata": {
        "colab": {
          "base_uri": "https://localhost:8080/"
        },
        "id": "N1Rt04wVVVTP",
        "outputId": "1956289b-f425-49dc-d4f7-3c74d53f3360"
      },
      "execution_count": null,
      "outputs": [
        {
          "output_type": "stream",
          "name": "stdout",
          "text": [
            "[2, 4, 100, 8, 10]\n",
            "[2, 4, 100, 8, 10]\n"
          ]
        }
      ]
    },
    {
      "cell_type": "code",
      "source": [
        "estados = ['São Paulo', 'Rio de Janeiro', 'Minas Gerais', 'Espirito Santo']\n",
        "estados\n",
        "\n",
        "print(' O  estado sorteado foi: ', random.choice(estados))\n"
      ],
      "metadata": {
        "colab": {
          "base_uri": "https://localhost:8080/"
        },
        "id": "PtodjIIYW7yc",
        "outputId": "a66c9552-4b0a-4476-f699-9f71430986dd"
      },
      "execution_count": null,
      "outputs": [
        {
          "output_type": "stream",
          "name": "stdout",
          "text": [
            " O  estado sorteado foi:  Rio de Janeiro\n"
          ]
        }
      ]
    },
    {
      "cell_type": "code",
      "source": [
        "#LISTA ALEATORIA\n",
        "\n",
        "lista= list()\n",
        "for i in range(10):\n",
        "lista.append(random.randint(1,100))\n",
        "\n",
        "lista"
      ],
      "metadata": {
        "colab": {
          "base_uri": "https://localhost:8080/",
          "height": 130
        },
        "id": "FMi5V0H5Xl8d",
        "outputId": "52162e52-4516-40b0-e434-09eca7fe5930"
      },
      "execution_count": null,
      "outputs": [
        {
          "output_type": "error",
          "ename": "IndentationError",
          "evalue": "ignored",
          "traceback": [
            "\u001b[0;36m  File \u001b[0;32m\"<ipython-input-1-9949adebdf36>\"\u001b[0;36m, line \u001b[0;32m5\u001b[0m\n\u001b[0;31m    lista.append(random.randint(1,100))\u001b[0m\n\u001b[0m    ^\u001b[0m\n\u001b[0;31mIndentationError\u001b[0m\u001b[0;31m:\u001b[0m expected an indented block\n"
          ]
        }
      ]
    },
    {
      "cell_type": "code",
      "source": [
        "### EXERCICIOS #####\n",
        "\n",
        "listaa = list()\n",
        "for i in range(5):\n",
        "  listaa.append(int(input('Me fale um numero:  ')))\n",
        "listaa"
      ],
      "metadata": {
        "colab": {
          "base_uri": "https://localhost:8080/"
        },
        "id": "SBa1mGEGY4W5",
        "outputId": "b562e569-9601-47ed-fd9c-8c1397041b92"
      },
      "execution_count": null,
      "outputs": [
        {
          "name": "stdout",
          "output_type": "stream",
          "text": [
            "Me fale um numero:  10\n",
            "Me fale um numero:  20\n",
            "Me fale um numero:  30\n",
            "Me fale um numero:  40\n",
            "Me fale um numero:  50\n"
          ]
        },
        {
          "output_type": "execute_result",
          "data": {
            "text/plain": [
              "[10, 20, 30, 40, 50]"
            ]
          },
          "metadata": {},
          "execution_count": 149
        }
      ]
    },
    {
      "cell_type": "code",
      "source": [
        "listaa.sort()\n",
        "listaa"
      ],
      "metadata": {
        "colab": {
          "base_uri": "https://localhost:8080/"
        },
        "id": "tC0aBexyaKq4",
        "outputId": "3512154c-a6ea-45a3-984d-acb493b8876f"
      },
      "execution_count": null,
      "outputs": [
        {
          "output_type": "execute_result",
          "data": {
            "text/plain": [
              "[10, 20, 30, 40, 50]"
            ]
          },
          "metadata": {},
          "execution_count": 150
        }
      ]
    },
    {
      "cell_type": "code",
      "source": [
        "listaa.sort(reverse=True)\n",
        "listaa"
      ],
      "metadata": {
        "colab": {
          "base_uri": "https://localhost:8080/"
        },
        "id": "6PWQzcXhZ8y4",
        "outputId": "b99aa908-8dae-493c-88fc-58ac4bcb2bc8"
      },
      "execution_count": null,
      "outputs": [
        {
          "output_type": "execute_result",
          "data": {
            "text/plain": [
              "[50, 40, 30, 20, 10]"
            ]
          },
          "metadata": {},
          "execution_count": 151
        }
      ]
    },
    {
      "cell_type": "code",
      "source": [
        "max(listaa)"
      ],
      "metadata": {
        "colab": {
          "base_uri": "https://localhost:8080/"
        },
        "id": "2FXwHo22aYgn",
        "outputId": "e82cc88f-f35f-4988-b62c-bb00229d8306"
      },
      "execution_count": null,
      "outputs": [
        {
          "output_type": "execute_result",
          "data": {
            "text/plain": [
              "50"
            ]
          },
          "metadata": {},
          "execution_count": 152
        }
      ]
    },
    {
      "cell_type": "code",
      "source": [
        "min(listaa)"
      ],
      "metadata": {
        "colab": {
          "base_uri": "https://localhost:8080/"
        },
        "id": "qr9Lma5xaas3",
        "outputId": "54828470-3397-4140-a103-070ce53507eb"
      },
      "execution_count": null,
      "outputs": [
        {
          "output_type": "execute_result",
          "data": {
            "text/plain": [
              "10"
            ]
          },
          "metadata": {},
          "execution_count": 153
        }
      ]
    },
    {
      "cell_type": "code",
      "source": [
        "listaa[-1]"
      ],
      "metadata": {
        "colab": {
          "base_uri": "https://localhost:8080/"
        },
        "id": "WRzou2XQac93",
        "outputId": "30f40f0a-1edf-4cbb-ba0f-26405359b697"
      },
      "execution_count": null,
      "outputs": [
        {
          "output_type": "execute_result",
          "data": {
            "text/plain": [
              "10"
            ]
          },
          "metadata": {},
          "execution_count": 154
        }
      ]
    },
    {
      "cell_type": "code",
      "source": [
        "## EXERCICIO 2 ####\n",
        "\n",
        "nomes = list()\n",
        "for i in range(5):\n",
        "  nomes.append(input('Me fale um nome: '))\n",
        "nomes"
      ],
      "metadata": {
        "colab": {
          "base_uri": "https://localhost:8080/"
        },
        "id": "ZAkmi-NibK22",
        "outputId": "a0683b41-17ed-4d74-b847-2719eef3fff7"
      },
      "execution_count": null,
      "outputs": [
        {
          "name": "stdout",
          "output_type": "stream",
          "text": [
            "Me fale um nome: kaue\n",
            "Me fale um nome: gu\n",
            "Me fale um nome: gui\n",
            "Me fale um nome: ju\n",
            "Me fale um nome: ny\n"
          ]
        },
        {
          "output_type": "execute_result",
          "data": {
            "text/plain": [
              "['kaue', 'gu', 'gui', 'ju', 'ny']"
            ]
          },
          "metadata": {},
          "execution_count": 157
        }
      ]
    },
    {
      "cell_type": "code",
      "source": [
        "notas = list()\n",
        "for i in range(3):\n",
        "  notas.append(float(input('Me fale a nota para calculo da média: ')))\n",
        "media = sum(notas)/3\n",
        "\n",
        "print(f'Sua média é igual a: ',media)"
      ],
      "metadata": {
        "colab": {
          "base_uri": "https://localhost:8080/"
        },
        "id": "VvlTs5ETcGf8",
        "outputId": "c5eb93c3-603d-4358-896e-4fd3e6838977"
      },
      "execution_count": null,
      "outputs": [
        {
          "output_type": "stream",
          "name": "stdout",
          "text": [
            "Me fale a nota para calculo da média: 10\n",
            "Me fale a nota para calculo da média: 9\n",
            "Me fale a nota para calculo da média: 8\n",
            "Sua média é igual a:  9.0\n"
          ]
        }
      ]
    }
  ]
}